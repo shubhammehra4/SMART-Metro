{
 "cells": [
  {
   "cell_type": "code",
   "execution_count": 1,
   "metadata": {},
   "outputs": [],
   "source": [
    "!pip install jovian --upgrade --quiet"
   ]
  },
  {
   "cell_type": "markdown",
   "metadata": {},
   "source": [
    "<br><font size='4'>Importing required libraries.</font>"
   ]
  },
  {
   "cell_type": "code",
   "execution_count": 2,
   "metadata": {},
   "outputs": [],
   "source": [
    "import numpy as np\n",
    "import pandas as pd\n",
    "from sklearn import preprocessing\n",
    "from sklearn.model_selection import train_test_split\n",
    "from sklearn.ensemble import RandomForestRegressor\n",
    "from sklearn.metrics import r2_score,mean_squared_error\n",
    "import pickle"
   ]
  },
  {
   "cell_type": "markdown",
   "metadata": {},
   "source": [
    "<br><font size='4'>Reading the dataset using pandas function ```read_csv()```.</font>"
   ]
  },
  {
   "cell_type": "code",
   "execution_count": 3,
   "metadata": {},
   "outputs": [],
   "source": [
    "df = pd.read_csv(\"output.csv\")"
   ]
  },
  {
   "cell_type": "code",
   "execution_count": 4,
   "metadata": {},
   "outputs": [
    {
     "data": {
      "text/plain": [
       "Index(['Station Name', 'Day', 'Time', 'Population', 'Weather'], dtype='object')"
      ]
     },
     "execution_count": 4,
     "metadata": {},
     "output_type": "execute_result"
    }
   ],
   "source": [
    "df.columns"
   ]
  },
  {
   "cell_type": "code",
   "execution_count": 5,
   "metadata": {
    "scrolled": true
   },
   "outputs": [
    {
     "data": {
      "text/html": [
       "<div>\n",
       "<style scoped>\n",
       "    .dataframe tbody tr th:only-of-type {\n",
       "        vertical-align: middle;\n",
       "    }\n",
       "\n",
       "    .dataframe tbody tr th {\n",
       "        vertical-align: top;\n",
       "    }\n",
       "\n",
       "    .dataframe thead th {\n",
       "        text-align: right;\n",
       "    }\n",
       "</style>\n",
       "<table border=\"1\" class=\"dataframe\">\n",
       "  <thead>\n",
       "    <tr style=\"text-align: right;\">\n",
       "      <th></th>\n",
       "      <th>0</th>\n",
       "      <th>1</th>\n",
       "      <th>2</th>\n",
       "      <th>3</th>\n",
       "    </tr>\n",
       "  </thead>\n",
       "  <tbody>\n",
       "    <tr>\n",
       "      <th>Station Name</th>\n",
       "      <td>Adarsh Nagar</td>\n",
       "      <td>Adarsh Nagar</td>\n",
       "      <td>Adarsh Nagar</td>\n",
       "      <td>Adarsh Nagar</td>\n",
       "    </tr>\n",
       "    <tr>\n",
       "      <th>Day</th>\n",
       "      <td>MONDAY</td>\n",
       "      <td>MONDAY</td>\n",
       "      <td>MONDAY</td>\n",
       "      <td>MONDAY</td>\n",
       "    </tr>\n",
       "    <tr>\n",
       "      <th>Time</th>\n",
       "      <td>10:00</td>\n",
       "      <td>11:00</td>\n",
       "      <td>12:00</td>\n",
       "      <td>1:00</td>\n",
       "    </tr>\n",
       "    <tr>\n",
       "      <th>Population</th>\n",
       "      <td>1193</td>\n",
       "      <td>1163</td>\n",
       "      <td>812</td>\n",
       "      <td>668</td>\n",
       "    </tr>\n",
       "    <tr>\n",
       "      <th>Weather</th>\n",
       "      <td>Rainy</td>\n",
       "      <td>Rainy</td>\n",
       "      <td>Rainy</td>\n",
       "      <td>ThunderStorm</td>\n",
       "    </tr>\n",
       "  </tbody>\n",
       "</table>\n",
       "</div>"
      ],
      "text/plain": [
       "                         0             1             2             3\n",
       "Station Name  Adarsh Nagar  Adarsh Nagar  Adarsh Nagar  Adarsh Nagar\n",
       "Day                 MONDAY        MONDAY        MONDAY        MONDAY\n",
       "Time                 10:00         11:00         12:00          1:00\n",
       "Population            1193          1163           812           668\n",
       "Weather              Rainy         Rainy         Rainy  ThunderStorm"
      ]
     },
     "execution_count": 5,
     "metadata": {},
     "output_type": "execute_result"
    }
   ],
   "source": [
    "df.head(4).T"
   ]
  },
  {
   "cell_type": "markdown",
   "metadata": {},
   "source": [
    "<br><font size='4'>Using ```Categorical```, we are converting instance into categorical values.</font>"
   ]
  },
  {
   "cell_type": "code",
   "execution_count": 6,
   "metadata": {},
   "outputs": [],
   "source": [
    "def try_int(x):\n",
    "    try:\n",
    "        return int(x)\n",
    "    except ValueError:\n",
    "        return \n",
    "\n",
    "df[\"Weather\"] = pd.Categorical(df[\"Weather\"]).codes\n",
    "df[\"Day\"] = pd.Categorical(df[\"Day\"]).codes\n",
    "df[\"Station Name\"] = pd.Categorical(df[\"Station Name\"]).codes\n",
    "df[\"Time\"] = df[\"Time\"].map(lambda x: try_int(x.split(\":\")[0]))\n",
    "df[\"Population\"] = df[\"Population\"].map(lambda x: try_int(x))"
   ]
  },
  {
   "cell_type": "markdown",
   "metadata": {},
   "source": [
    "<br><font size='4'>Now dividing the dataset into independent variables also known as ```Features``` and dependent varibales known as ```Targets```.</font>"
   ]
  },
  {
   "cell_type": "code",
   "execution_count": 7,
   "metadata": {},
   "outputs": [
    {
     "name": "stdout",
     "output_type": "stream",
     "text": [
      "[[ 1  1 10  1]\n",
      " [ 1  1 11  1]\n",
      " [ 1  1 12  1]\n",
      " ...\n",
      " [70  3  6  2]\n",
      " [70  3  7  0]\n",
      " [70  3  8  0]] [[1193]\n",
      " [1163]\n",
      " [ 812]\n",
      " ...\n",
      " [ 477]\n",
      " [ 661]\n",
      " [1611]]\n"
     ]
    }
   ],
   "source": [
    "x = df[[\"Station Name\", \"Day\", \"Time\", \"Weather\"]].values\n",
    "y = df[[\"Population\"]].values\n",
    "print(x,y)"
   ]
  },
  {
   "cell_type": "markdown",
   "metadata": {},
   "source": [
    "<br><font size='4'>Eliminating all the NaN(Not a Number) and infinite values in the dataset.</font>"
   ]
  },
  {
   "cell_type": "code",
   "execution_count": 8,
   "metadata": {},
   "outputs": [
    {
     "data": {
      "text/plain": [
       "False"
      ]
     },
     "execution_count": 8,
     "metadata": {},
     "output_type": "execute_result"
    }
   ],
   "source": [
    "x = np.nan_to_num(x)\n",
    "y = np.nan_to_num(y)\n",
    "np.any(np.isnan(x))"
   ]
  },
  {
   "cell_type": "markdown",
   "metadata": {},
   "source": [
    "<br><font size='4'>```preprocessing.scale()``` is used for standardizing the data along y-axis. It scales the data in such a way which tranforms the variance of each component to unit.</font>"
   ]
  },
  {
   "cell_type": "code",
   "execution_count": 9,
   "metadata": {},
   "outputs": [],
   "source": [
    "norm_x = preprocessing.scale(x)\n",
    "norm_y = preprocessing.scale(y)"
   ]
  },
  {
   "cell_type": "markdown",
   "metadata": {},
   "source": [
    "<br><font size='4'>Dividing our dataset into training set and testing set. By specifying ```test_size``` we are using 30% of dataset as training set. As default ```test_size``` is 0.25.</font>"
   ]
  },
  {
   "cell_type": "code",
   "execution_count": 10,
   "metadata": {},
   "outputs": [],
   "source": [
    "x_train,x_test,y_train,y_test = train_test_split(x, y, test_size=0.30, random_state=69)"
   ]
  },
  {
   "cell_type": "markdown",
   "metadata": {},
   "source": [
    "<br><font size='4'>A random forest is a meta estimator that fits a number of classifying decision trees on various sub-samples of the dataset and uses averaging to improve the predictive accuracy and control over-fitting. Few of it's hyper-parameters are ```n_estimators``` which specifies the number of trees in forest. Another parameter is ```max_depth``` which specifies max depth of the tree. </font>"
   ]
  },
  {
   "cell_type": "code",
   "execution_count": 11,
   "metadata": {},
   "outputs": [
    {
     "data": {
      "text/plain": [
       "RandomForestRegressor(n_estimators=10, random_state=69)"
      ]
     },
     "execution_count": 11,
     "metadata": {},
     "output_type": "execute_result"
    }
   ],
   "source": [
    "RandomForesRegModel = RandomForestRegressor(n_estimators = 10, random_state = 69)\n",
    "RandomForesRegModel.fit(x_train.reshape(-1,4), y_train.ravel())"
   ]
  },
  {
   "cell_type": "markdown",
   "metadata": {},
   "source": [
    "<br><font size='4'>To make predictions, the ```predict``` method is used.</font>"
   ]
  },
  {
   "cell_type": "code",
   "execution_count": 12,
   "metadata": {},
   "outputs": [],
   "source": [
    "y_pred = RandomForesRegModel.predict(x_test.reshape(-1,4))"
   ]
  },
  {
   "cell_type": "code",
   "execution_count": 13,
   "metadata": {},
   "outputs": [
    {
     "data": {
      "text/plain": [
       "array([[ 158.62717949],\n",
       "       [ 988.37661981],\n",
       "       [ 828.00023919],\n",
       "       [ 356.21379388],\n",
       "       [ 271.26591052],\n",
       "       [  64.28988866],\n",
       "       [ 103.0854931 ],\n",
       "       [ 444.38896856],\n",
       "       [1615.81361305]])"
      ]
     },
     "execution_count": 13,
     "metadata": {},
     "output_type": "execute_result"
    }
   ],
   "source": [
    "y_pred[1:10].reshape(-1,1)"
   ]
  },
  {
   "cell_type": "code",
   "execution_count": 14,
   "metadata": {},
   "outputs": [
    {
     "data": {
      "text/plain": [
       "array([[ 166],\n",
       "       [ 884],\n",
       "       [ 869],\n",
       "       [ 364],\n",
       "       [ 289],\n",
       "       [  77],\n",
       "       [  56],\n",
       "       [ 459],\n",
       "       [1616]])"
      ]
     },
     "execution_count": 14,
     "metadata": {},
     "output_type": "execute_result"
    }
   ],
   "source": [
    "y_test[1:10].reshape(-1,1)"
   ]
  },
  {
   "cell_type": "markdown",
   "metadata": {},
   "source": [
    "<br><font size='4'>The Accuracy, ```r2_score``` and Mean Squared Error ```mean_squared_error```</font>"
   ]
  },
  {
   "cell_type": "code",
   "execution_count": 15,
   "metadata": {},
   "outputs": [
    {
     "name": "stdout",
     "output_type": "stream",
     "text": [
      "Accuracy:  98.36008534342926\n",
      "Mean squared error:  3073.368723654206\n"
     ]
    }
   ],
   "source": [
    "print('Accuracy: ', r2_score(y_test, y_pred.reshape(-1,1))*100)\n",
    "print('Mean squared error: ', mean_squared_error(y_test, y_pred.reshape(-1,1)))"
   ]
  },
  {
   "cell_type": "markdown",
   "metadata": {},
   "source": [
    "<br><font size='4'>Saving the Models with ```pickle```</font>"
   ]
  },
  {
   "cell_type": "code",
   "execution_count": 16,
   "metadata": {},
   "outputs": [],
   "source": [
    "PKL_filename = \"RFR_Model.pkl\"\n",
    "\n",
    "with open(PKL_filename, 'wb') as file:\n",
    "    pickle.dump(RandomForesRegModel, file)"
   ]
  },
  {
   "cell_type": "code",
   "execution_count": 17,
   "metadata": {},
   "outputs": [
    {
     "data": {
      "text/plain": [
       "RandomForestRegressor(n_estimators=10, random_state=69)"
      ]
     },
     "execution_count": 17,
     "metadata": {},
     "output_type": "execute_result"
    }
   ],
   "source": [
    "with open (PKL_filename, 'rb') as file:\n",
    "    Loaded_Model = pickle.load(file)\n",
    "Loaded_Model"
   ]
  },
  {
   "cell_type": "code",
   "execution_count": 18,
   "metadata": {},
   "outputs": [
    {
     "data": {
      "text/plain": [
       "0.9836008534342926"
      ]
     },
     "execution_count": 18,
     "metadata": {},
     "output_type": "execute_result"
    }
   ],
   "source": [
    "score = Loaded_Model.score(x_test.reshape(-1,4),y_test)\n",
    "score"
   ]
  },
  {
   "cell_type": "code",
   "execution_count": null,
   "metadata": {},
   "outputs": [
    {
     "data": {
      "application/javascript": [
       "window.require && require([\"base/js/namespace\"],function(Jupyter){Jupyter.notebook.save_checkpoint()})"
      ],
      "text/plain": [
       "<IPython.core.display.Javascript object>"
      ]
     },
     "metadata": {},
     "output_type": "display_data"
    },
    {
     "name": "stdout",
     "output_type": "stream",
     "text": [
      "[jovian] Attempting to save notebook..\u001b[0m\n"
     ]
    }
   ],
   "source": [
    "jovian.commit()"
   ]
  },
  {
   "cell_type": "code",
   "execution_count": null,
   "metadata": {},
   "outputs": [],
   "source": []
  }
 ],
 "metadata": {
  "kernelspec": {
   "display_name": "Python 3",
   "language": "python",
   "name": "python3"
  },
  "language_info": {
   "codemirror_mode": {
    "name": "ipython",
    "version": 3
   },
   "file_extension": ".py",
   "mimetype": "text/x-python",
   "name": "python",
   "nbconvert_exporter": "python",
   "pygments_lexer": "ipython3",
   "version": "3.8.6"
  }
 },
 "nbformat": 4,
 "nbformat_minor": 2
}
