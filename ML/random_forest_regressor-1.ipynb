{
 "cells": [
  {
   "cell_type": "code",
   "execution_count": 1,
   "metadata": {},
   "outputs": [],
   "source": [
    "!pip install jovian --upgrade --quiet"
   ]
  },
  {
   "cell_type": "code",
   "execution_count": 2,
   "metadata": {},
   "outputs": [],
   "source": [
    "import numpy as np\n",
    "import pandas as pd\n",
    "from sklearn import preprocessing\n",
    "from sklearn.model_selection import train_test_split\n",
    "from sklearn.ensemble import RandomForestRegressor\n",
    "from sklearn.metrics import r2_score,mean_squared_error\n",
    "import pickle"
   ]
  },
  {
   "cell_type": "code",
   "execution_count": 3,
   "metadata": {},
   "outputs": [],
   "source": [
    "df = pd.read_csv(\"output.csv\")"
   ]
  },
  {
   "cell_type": "code",
   "execution_count": 4,
   "metadata": {},
   "outputs": [],
   "source": [
    "x= np.array(df[\"Station Name\"])\n",
    "y= np.array(df[\"Day\"])\n",
    "z= np.array(df[\"Time\"])\n",
    "w = np.array(df[\"Weather\"])"
   ]
  },
  {
   "cell_type": "code",
   "execution_count": 5,
   "metadata": {},
   "outputs": [
    {
     "name": "stdout",
     "output_type": "stream",
     "text": [
      "['AIIMS' 'Adarsh Nagar' 'Akshardham' 'Anand Vihar' 'Arjan Garh'\n",
      " 'Ashok Park Main' 'Azadpur' 'Badarpur Border' 'Botanical Garden'\n",
      " 'Central Secretariat' 'Chandni Chowk' 'Chawri Bazar' 'Chhatarpur'\n",
      " 'Civil Lines' 'Dwarka' 'GTB Nagar' 'Ghitorni' 'Green Park'\n",
      " 'Guru Dronacharya' 'HUDA City Centre' 'Haiderpur' 'Hauz Khas'\n",
      " 'IFFCO Chowk' 'IITD' 'INA' 'Inderlok' 'Jahangirpuri' 'Janakpuri West'\n",
      " 'Jor Bagh' 'Kalkaji Mandir' 'Karkarduma' 'Kashmere Gate' 'Kaushambi'\n",
      " 'Kirti Nagar' 'Lajpat Nagar' 'Laxmi Nagar' 'Lok Kalyan Marg' 'MG Road'\n",
      " 'Mandi House' 'Mayur Vihar -I' 'Mayur Vihar Extension' 'Model Town'\n",
      " 'Munirka' 'Netaji Subhash Place' 'New Ashok Nagar' 'New Delhi'\n",
      " 'Nirman Vihar' 'Noida City Centre' 'Noida Golf Course' 'Noida Sector 15'\n",
      " 'Noida Sector 16' 'Noida Sector 18' 'Patel Chowk' 'Preet Vihar'\n",
      " 'Qutab Minar' 'Rajiv Chowk' 'Rithala' 'Rohini Sector 18-19' 'Saket'\n",
      " 'Samaypur Badli' 'Shahdara' 'Sikandarpur' 'Sultanpur' 'Surajmal Stadium'\n",
      " 'Terminal 1 IGI Airport' 'Udyog Bhawan' 'Vaishali' 'Vidhan Sabha'\n",
      " 'Vishwa Vidyalaya' 'Welcome' 'Yamuna Bank']\n"
     ]
    }
   ],
   "source": [
    "print(np.unique(x))"
   ]
  },
  {
   "cell_type": "code",
   "execution_count": 6,
   "metadata": {},
   "outputs": [
    {
     "name": "stdout",
     "output_type": "stream",
     "text": [
      "['FRIDAY' 'MONDAY' 'SATURDAY' 'SUNDAY' 'THURSDAY' 'TUESDAY' 'WEDNESDAY']\n"
     ]
    }
   ],
   "source": [
    "print(np.unique(y))"
   ]
  },
  {
   "cell_type": "code",
   "execution_count": 7,
   "metadata": {},
   "outputs": [
    {
     "name": "stdout",
     "output_type": "stream",
     "text": [
      "['10:00' '11:00' '12:00' '1:00' '2:00' '3:00' '4:00' '5:00' '6:00' '7:00'\n",
      " '8:00']\n"
     ]
    }
   ],
   "source": [
    "print(np.unique(z))"
   ]
  },
  {
   "cell_type": "code",
   "execution_count": 8,
   "metadata": {},
   "outputs": [
    {
     "name": "stdout",
     "output_type": "stream",
     "text": [
      "['Cool' 'Rainy' 'Sunny' 'ThunderStorm']\n"
     ]
    }
   ],
   "source": [
    "print(np.unique(w))"
   ]
  },
  {
   "cell_type": "code",
   "execution_count": 9,
   "metadata": {},
   "outputs": [],
   "source": [
    "def try_int(x):\n",
    "    try:\n",
    "        return int(x)\n",
    "    except ValueError:\n",
    "        return \n",
    "\n",
    "df[\"Weather\"] = pd.Categorical(df[\"Weather\"]).codes\n",
    "df[\"Day\"] = pd.Categorical(df[\"Day\"]).codes\n",
    "df[\"Station Name\"] = pd.Categorical(df[\"Station Name\"]).codes\n",
    "df[\"Time\"] = df[\"Time\"].map(lambda x: try_int(x.split(\":\")[0]))\n",
    "df[\"Population\"] = df[\"Population\"].map(lambda x: try_int(x))"
   ]
  },
  {
   "cell_type": "code",
   "execution_count": 10,
   "metadata": {},
   "outputs": [],
   "source": [
    "x = df[[\"Station Name\", \"Day\", \"Time\", \"Weather\"]].values\n",
    "y = df[[\"Population\"]].values"
   ]
  },
  {
   "cell_type": "code",
   "execution_count": 11,
   "metadata": {},
   "outputs": [],
   "source": [
    "# x = np.nan_to_num(x)\n",
    "# y = np.nan_to_num(y)\n",
    "# np.any(np.isnan(y))"
   ]
  },
  {
   "cell_type": "code",
   "execution_count": 12,
   "metadata": {},
   "outputs": [],
   "source": [
    "x_train,x_test,y_train,y_test = train_test_split(x, y, test_size=0.35, random_state=100)"
   ]
  },
  {
   "cell_type": "code",
   "execution_count": 13,
   "metadata": {},
   "outputs": [
    {
     "data": {
      "text/plain": [
       "RandomForestRegressor(n_estimators=6, random_state=0)"
      ]
     },
     "execution_count": 13,
     "metadata": {},
     "output_type": "execute_result"
    }
   ],
   "source": [
    "RandomForesRegModel = RandomForestRegressor(n_estimators = 6, random_state = 0)\n",
    "RandomForesRegModel.fit(x_train.reshape(-1,4), y_train.ravel())"
   ]
  },
  {
   "cell_type": "code",
   "execution_count": 14,
   "metadata": {},
   "outputs": [],
   "source": [
    "y_pred = RandomForesRegModel.predict(x_test.reshape(-1,4))"
   ]
  },
  {
   "cell_type": "code",
   "execution_count": 15,
   "metadata": {},
   "outputs": [
    {
     "data": {
      "text/plain": [
       "array([[ 503.20840032],\n",
       "       [  55.2864979 ],\n",
       "       [ 560.1240209 ],\n",
       "       [  57.03893661],\n",
       "       [1294.32950118],\n",
       "       [ 679.3053602 ],\n",
       "       [  78.2089821 ],\n",
       "       [1516.62652814],\n",
       "       [ 685.61685887]])"
      ]
     },
     "execution_count": 15,
     "metadata": {},
     "output_type": "execute_result"
    }
   ],
   "source": [
    "y_pred[1:10].reshape(-1,1)"
   ]
  },
  {
   "cell_type": "code",
   "execution_count": 16,
   "metadata": {},
   "outputs": [
    {
     "data": {
      "text/plain": [
       "array([[ 526],\n",
       "       [  65],\n",
       "       [ 562],\n",
       "       [  34],\n",
       "       [1366],\n",
       "       [ 749],\n",
       "       [ 100],\n",
       "       [1523],\n",
       "       [ 726]])"
      ]
     },
     "execution_count": 16,
     "metadata": {},
     "output_type": "execute_result"
    }
   ],
   "source": [
    "y_test[1:10].reshape(-1,1)"
   ]
  },
  {
   "cell_type": "code",
   "execution_count": 17,
   "metadata": {},
   "outputs": [
    {
     "name": "stdout",
     "output_type": "stream",
     "text": [
      "Accuracy :  98.34992004802685\n",
      "MSE:  3091.5280693169216\n"
     ]
    }
   ],
   "source": [
    "print('Accuracy : ', r2_score(y_test, y_pred.reshape(-1,1))*100)\n",
    "print('MSE: ', mean_squared_error(y_test, y_pred.reshape(-1,1)))"
   ]
  },
  {
   "cell_type": "code",
   "execution_count": 18,
   "metadata": {},
   "outputs": [],
   "source": [
    "PKL_filename = \"RFR_Model.pkl\"\n",
    "\n",
    "with open(PKL_filename, 'wb') as file:\n",
    "    pickle.dump(RandomForesRegModel, file)"
   ]
  },
  {
   "cell_type": "code",
   "execution_count": 19,
   "metadata": {},
   "outputs": [
    {
     "data": {
      "text/plain": [
       "1174.7244008714597"
      ]
     },
     "execution_count": 19,
     "metadata": {},
     "output_type": "execute_result"
    }
   ],
   "source": [
    "with open (\"RFR_Model.pkl\", 'rb') as file:\n",
    "    Loaded_Model = pickle.load(file)\n",
    "Loaded_Model\n",
    "test_input=np.array([1,6,10,2]) # \"Station Name[0-137]\", \"Day[0-7]\", \"Time[10-8]\", \"Weather[0-4]\"\n",
    "result = Loaded_Model.predict(test_input.reshape(-1,4))\n",
    "result[0]"
   ]
  },
  {
   "cell_type": "code",
   "execution_count": 20,
   "metadata": {},
   "outputs": [],
   "source": [
    "# score = Loaded_Model.score(x_test.reshape(-1,4),y_test)\n",
    "# score"
   ]
  }
 ],
 "metadata": {
  "kernelspec": {
   "display_name": "Python 3",
   "language": "python",
   "name": "python3"
  },
  "language_info": {
   "codemirror_mode": {
    "name": "ipython",
    "version": 3
   },
   "file_extension": ".py",
   "mimetype": "text/x-python",
   "name": "python",
   "nbconvert_exporter": "python",
   "pygments_lexer": "ipython3",
   "version": "3.8.6"
  }
 },
 "nbformat": 4,
 "nbformat_minor": 2
}
