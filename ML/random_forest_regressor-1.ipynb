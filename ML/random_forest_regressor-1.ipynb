{
 "cells": [
  {
   "cell_type": "code",
   "execution_count": 1,
   "metadata": {},
   "outputs": [],
   "source": [
    "!pip install jovian --upgrade --quiet"
   ]
  },
  {
   "cell_type": "code",
   "execution_count": 2,
   "metadata": {},
   "outputs": [],
   "source": [
    "import numpy as np\n",
    "import pandas as pd\n",
    "from sklearn import preprocessing\n",
    "from sklearn.model_selection import train_test_split\n",
    "from sklearn.ensemble import RandomForestRegressor\n",
    "from sklearn.metrics import r2_score,mean_squared_error\n",
    "import pickle"
   ]
  },
  {
   "cell_type": "code",
   "execution_count": 3,
   "metadata": {},
   "outputs": [],
   "source": [
    "df = pd.read_csv(\"output.csv\")"
   ]
  },
  {
   "cell_type": "code",
   "execution_count": 4,
   "metadata": {},
   "outputs": [],
   "source": [
    "x= np.array(df[\"Station Name\"])\n",
    "y= np.array(df[\"Day\"])\n",
    "z= np.array(df[\"Time\"])\n",
    "w = np.array(df[\"Weather\"])"
   ]
  },
  {
   "cell_type": "code",
   "execution_count": 5,
   "metadata": {},
   "outputs": [
    {
     "name": "stdout",
     "output_type": "stream",
     "text": [
      "['AIIMS' 'Adarsh Nagar' 'Akshardham' 'Anand Vihar' 'Arjan Garh'\n",
      " 'Ashok Park Main' 'Azadpur' 'Badarpur' 'Barakhambha Road'\n",
      " 'Botanical Garden' 'Central Secretariat' 'Chandni Chowk' 'Chawri Bazar'\n",
      " 'Chhatarpur' 'Civil Lines' 'Delhi Aerocity' 'Dhaula Kuan'\n",
      " 'Dilshad Garden' 'Dwarka' 'Dwarka Morh' 'Dwarka Sector 10'\n",
      " 'Dwarka Sector 11' 'Dwarka Sector 12' 'Dwarka Sector 13'\n",
      " 'Dwarka Sector 14' 'Dwarka Sector 21' 'Dwarka Sector 8' 'Dwarka Sector 9'\n",
      " 'GTB Nagar' 'Ghitorni' 'Govind Puri' 'Green Park' 'Guru Dronacharya'\n",
      " 'HUDA City Centre' 'Hauz Khas' 'IFFCO Chowk' 'INA' 'Inderlok'\n",
      " 'Indira Gandhi International Airport' 'Indraprastha' 'Jahangirpuri'\n",
      " 'Janakpuri East' 'Janakpuri West' 'Jangpura' 'Jasola Apollo'\n",
      " 'Jawaharlal Nehru Stadium' 'Jhandewalan' 'Jhilmil' 'Jor Bagh'\n",
      " 'Kailash Colony' 'Kalkaji Mandir' 'Kanhiya Nagar' 'Karkarduma'\n",
      " 'Karol Bagh' 'Kashmere Gate' 'Kaushambi' 'Keshav Puram' 'Khan Market'\n",
      " 'Kirti Nagar' 'Kohat Enclave' 'Lajpat Nagar' 'Laxmi Nagar' 'MG Road'\n",
      " 'Madipur' 'Malviya Nagar' 'Mandi House' 'Mansarovar Park'\n",
      " 'Mayur Vihar -I' 'Mayur Vihar Extension' 'Model Town' 'Mohan Estate'\n",
      " 'Moolchand' 'Moti Nagar' 'Mundka' 'Nangloi' 'Nangloi Railway station'\n",
      " 'Nawada' 'Nehru Place' 'Netaji Subhash Place' 'New Ashok Nagar'\n",
      " 'New Delhi' 'Nirman Vihar' 'Noida City Centre' 'Noida Golf Course'\n",
      " 'Noida Sector 15' 'Noida Sector 16' 'Noida Sector 18' 'Okhla'\n",
      " 'Paschim Vihar East' 'Paschim Vihar West' 'Patel Chowk' 'Patel Nagar'\n",
      " 'Peera Garhi' 'Pitam Pura' 'Pragati Maidan' 'Pratap Nagar' 'Preet Vihar'\n",
      " 'Pul Bangash' 'Punjabi Bagh East' 'Qutab Minar' 'Race Course'\n",
      " 'Rajdhani Park' 'Rajendra Place' 'Rajiv Chowk' 'Rajouri Garden'\n",
      " 'Ramakrishna Ashram Marg' 'Ramesh Nagar' 'Rithala' 'Rohini East'\n",
      " 'Rohini West' 'Saket' 'Sarita Vihar' 'Satguru Ramsingh Marg' 'Seelampur'\n",
      " 'Shadipur' 'Shahdara' 'Shastri Nagar' 'Shastri Park' 'Shivaji Park'\n",
      " 'Shivaji Stadium' 'Sikandarpur' 'Station Name' 'Subhash Nagar'\n",
      " 'Sultanpur' 'Surajmal Stadium' 'Tagore Garden' 'Tilak Nagar' 'Tis Hazari'\n",
      " 'Tughlakabad' 'Udyog Bhawan' 'Udyog Nagar' 'Uttam Nagar East'\n",
      " 'Uttam Nagar West' 'Vaishali' 'Vidhan Sabha' 'Vishwa Vidyalaya' 'Welcome'\n",
      " 'Yamuna Bank']\n"
     ]
    }
   ],
   "source": [
    "print(np.unique(x))"
   ]
  },
  {
   "cell_type": "code",
   "execution_count": 6,
   "metadata": {},
   "outputs": [
    {
     "name": "stdout",
     "output_type": "stream",
     "text": [
      "['Day' 'FRIDAY' 'MONDAY' 'SATURDAY' 'SUNDAY' 'THURSDAY' 'TUESDAY'\n",
      " 'WEDNESDAY']\n"
     ]
    }
   ],
   "source": [
    "print(np.unique(y))"
   ]
  },
  {
   "cell_type": "code",
   "execution_count": 7,
   "metadata": {},
   "outputs": [
    {
     "name": "stdout",
     "output_type": "stream",
     "text": [
      "['10:00' '11:00' '12:00' '1:00' '2:00' '3:00' '4:00' '5:00' '6:00' '7:00'\n",
      " 'Time']\n"
     ]
    }
   ],
   "source": [
    "print(np.unique(z))"
   ]
  },
  {
   "cell_type": "code",
   "execution_count": 8,
   "metadata": {},
   "outputs": [
    {
     "name": "stdout",
     "output_type": "stream",
     "text": [
      "['Cool' 'Rainy' 'Sunny' 'ThunderStorm' 'Weather']\n"
     ]
    }
   ],
   "source": [
    "print(np.unique(w))"
   ]
  },
  {
   "cell_type": "code",
   "execution_count": 9,
   "metadata": {},
   "outputs": [],
   "source": [
    "def try_int(x):\n",
    "    try:\n",
    "        return int(x)\n",
    "    except ValueError:\n",
    "        return \n",
    "\n",
    "df[\"Weather\"] = pd.Categorical(df[\"Weather\"]).codes\n",
    "df[\"Day\"] = pd.Categorical(df[\"Day\"]).codes\n",
    "df[\"Station Name\"] = pd.Categorical(df[\"Station Name\"]).codes\n",
    "df[\"Time\"] = df[\"Time\"].map(lambda x: try_int(x.split(\":\")[0]))\n",
    "df[\"Population\"] = df[\"Population\"].map(lambda x: try_int(x))"
   ]
  },
  {
   "cell_type": "code",
   "execution_count": 10,
   "metadata": {},
   "outputs": [],
   "source": [
    "x = df[[\"Station Name\", \"Day\", \"Time\", \"Weather\"]].values\n",
    "y = df[[\"Population\"]].values"
   ]
  },
  {
   "cell_type": "code",
   "execution_count": 11,
   "metadata": {},
   "outputs": [
    {
     "data": {
      "text/plain": [
       "False"
      ]
     },
     "execution_count": 11,
     "metadata": {},
     "output_type": "execute_result"
    }
   ],
   "source": [
    "x = np.nan_to_num(x)\n",
    "y = np.nan_to_num(y)\n",
    "np.any(np.isnan(x))\n",
    "# norm_x = preprocessing.scale(x)\n",
    "# norm_y = preprocessing.scale(y)"
   ]
  },
  {
   "cell_type": "code",
   "execution_count": 12,
   "metadata": {},
   "outputs": [],
   "source": [
    "x_train,x_test,y_train,y_test = train_test_split(x, y, test_size=0.35, random_state=100)"
   ]
  },
  {
   "cell_type": "code",
   "execution_count": 13,
   "metadata": {},
   "outputs": [
    {
     "data": {
      "text/plain": [
       "RandomForestRegressor(n_estimators=6, random_state=0)"
      ]
     },
     "execution_count": 13,
     "metadata": {},
     "output_type": "execute_result"
    }
   ],
   "source": [
    "RandomForesRegModel = RandomForestRegressor(n_estimators = 6, random_state = 0)\n",
    "RandomForesRegModel.fit(x_train.reshape(-1,4), y_train.ravel())"
   ]
  },
  {
   "cell_type": "code",
   "execution_count": 14,
   "metadata": {},
   "outputs": [],
   "source": [
    "y_pred = RandomForesRegModel.predict(x_test.reshape(-1,4))"
   ]
  },
  {
   "cell_type": "code",
   "execution_count": 15,
   "metadata": {},
   "outputs": [
    {
     "data": {
      "text/plain": [
       "array([[1074.6615639 ],\n",
       "       [  72.69947665],\n",
       "       [1099.7677937 ],\n",
       "       [  33.17528714],\n",
       "       [1344.13888419],\n",
       "       [ 108.78733974],\n",
       "       [ 367.78580553],\n",
       "       [ 206.57260101],\n",
       "       [ 858.56593221]])"
      ]
     },
     "execution_count": 15,
     "metadata": {},
     "output_type": "execute_result"
    }
   ],
   "source": [
    "y_pred[1:10].reshape(-1,1)"
   ]
  },
  {
   "cell_type": "code",
   "execution_count": 16,
   "metadata": {},
   "outputs": [
    {
     "data": {
      "text/plain": [
       "array([[1127.],\n",
       "       [  52.],\n",
       "       [1040.],\n",
       "       [  16.],\n",
       "       [1365.],\n",
       "       [ 136.],\n",
       "       [ 339.],\n",
       "       [ 157.],\n",
       "       [ 867.]])"
      ]
     },
     "execution_count": 16,
     "metadata": {},
     "output_type": "execute_result"
    }
   ],
   "source": [
    "y_test[1:10].reshape(-1,1)"
   ]
  },
  {
   "cell_type": "code",
   "execution_count": 17,
   "metadata": {},
   "outputs": [
    {
     "name": "stdout",
     "output_type": "stream",
     "text": [
      "Accuracy :  98.19030927379211\n",
      "MSE:  2214.8806788867537\n"
     ]
    }
   ],
   "source": [
    "print('Accuracy : ', r2_score(y_test, y_pred.reshape(-1,1))*100)\n",
    "print('MSE: ', mean_squared_error(y_test, y_pred.reshape(-1,1)))"
   ]
  },
  {
   "cell_type": "code",
   "execution_count": 18,
   "metadata": {},
   "outputs": [],
   "source": [
    "PKL_filename = \"RFR_Model.pkl\"\n",
    "\n",
    "with open(PKL_filename, 'wb') as file:\n",
    "    pickle.dump(RandomForesRegModel, file)"
   ]
  },
  {
   "cell_type": "code",
   "execution_count": 19,
   "metadata": {},
   "outputs": [
    {
     "data": {
      "text/plain": [
       "1539.3043803418805"
      ]
     },
     "execution_count": 19,
     "metadata": {},
     "output_type": "execute_result"
    }
   ],
   "source": [
    "with open (\"RFR_Model.pkl\", 'rb') as file:\n",
    "    Loaded_Model = pickle.load(file)\n",
    "Loaded_Model\n",
    "test_input=np.array([1,6,10,2]) # \"Station Name[0-137]\", \"Day[0-7]\", \"Time[10-8]\", \"Weather[0-4]\"\n",
    "result = Loaded_Model.predict(test_input.reshape(-1,4))\n",
    "result[0]"
   ]
  },
  {
   "cell_type": "code",
   "execution_count": 20,
   "metadata": {},
   "outputs": [],
   "source": [
    "# score = Loaded_Model.score(x_test.reshape(-1,4),y_test)\n",
    "# score"
   ]
  }
 ],
 "metadata": {
  "kernelspec": {
   "display_name": "Python 3",
   "language": "python",
   "name": "python3"
  },
  "language_info": {
   "codemirror_mode": {
    "name": "ipython",
    "version": 3
   },
   "file_extension": ".py",
   "mimetype": "text/x-python",
   "name": "python",
   "nbconvert_exporter": "python",
   "pygments_lexer": "ipython3",
   "version": "3.8.6"
  }
 },
 "nbformat": 4,
 "nbformat_minor": 2
}
