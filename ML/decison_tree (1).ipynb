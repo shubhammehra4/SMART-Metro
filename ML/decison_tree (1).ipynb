{
 "cells": [
  {
   "cell_type": "code",
   "execution_count": 1,
   "metadata": {},
   "outputs": [],
   "source": [
    "!pip install jovian --upgrade --quiet"
   ]
  },
  {
   "cell_type": "markdown",
   "metadata": {},
   "source": [
    "<br><font size='4'>Importing required libraries.</font>"
   ]
  },
  {
   "cell_type": "code",
   "execution_count": 2,
   "metadata": {},
   "outputs": [],
   "source": [
    "import math\n",
    "import numpy as np \n",
    "import pandas as pd\n",
    "import matplotlib as mpl\n",
    "from sklearn import preprocessing\n",
    "import matplotlib.pyplot as plt\n",
    "from sklearn import datasets\n",
    "from sklearn.model_selection import train_test_split\n",
    "from sklearn.tree import DecisionTreeClassifier\n",
    "from sklearn import tree\n",
    "from sklearn.metrics import r2_score,mean_squared_error\n",
    "\n",
    "%matplotlib inline"
   ]
  },
  {
   "cell_type": "markdown",
   "metadata": {},
   "source": [
    "<br><font size='4'>Reading the dataset using pandas function ```read_csv()```.</font>"
   ]
  },
  {
   "cell_type": "code",
   "execution_count": 3,
   "metadata": {},
   "outputs": [
    {
     "data": {
      "text/html": [
       "<div>\n",
       "<style scoped>\n",
       "    .dataframe tbody tr th:only-of-type {\n",
       "        vertical-align: middle;\n",
       "    }\n",
       "\n",
       "    .dataframe tbody tr th {\n",
       "        vertical-align: top;\n",
       "    }\n",
       "\n",
       "    .dataframe thead th {\n",
       "        text-align: right;\n",
       "    }\n",
       "</style>\n",
       "<table border=\"1\" class=\"dataframe\">\n",
       "  <thead>\n",
       "    <tr style=\"text-align: right;\">\n",
       "      <th></th>\n",
       "      <th>Station Name</th>\n",
       "      <th>Day</th>\n",
       "      <th>Time</th>\n",
       "      <th>Population</th>\n",
       "      <th>Weather</th>\n",
       "    </tr>\n",
       "  </thead>\n",
       "  <tbody>\n",
       "    <tr>\n",
       "      <th>335581</th>\n",
       "      <td>Surajmal Stadium</td>\n",
       "      <td>TUESDAY</td>\n",
       "      <td>2:00</td>\n",
       "      <td>150</td>\n",
       "      <td>Cool</td>\n",
       "    </tr>\n",
       "    <tr>\n",
       "      <th>355649</th>\n",
       "      <td>Vaishali</td>\n",
       "      <td>SATURDAY</td>\n",
       "      <td>6:00</td>\n",
       "      <td>132</td>\n",
       "      <td>Cool</td>\n",
       "    </tr>\n",
       "    <tr>\n",
       "      <th>369547</th>\n",
       "      <td>Udyog Bhawan</td>\n",
       "      <td>WEDNESDAY</td>\n",
       "      <td>12:00</td>\n",
       "      <td>89</td>\n",
       "      <td>Cool</td>\n",
       "    </tr>\n",
       "    <tr>\n",
       "      <th>226062</th>\n",
       "      <td>Model Town</td>\n",
       "      <td>SUNDAY</td>\n",
       "      <td>11:00</td>\n",
       "      <td>52</td>\n",
       "      <td>ThunderStorm</td>\n",
       "    </tr>\n",
       "    <tr>\n",
       "      <th>205780</th>\n",
       "      <td>Mayur Vihar -I</td>\n",
       "      <td>THURSDAY</td>\n",
       "      <td>1:00</td>\n",
       "      <td>70</td>\n",
       "      <td>Sunny</td>\n",
       "    </tr>\n",
       "    <tr>\n",
       "      <th>...</th>\n",
       "      <td>...</td>\n",
       "      <td>...</td>\n",
       "      <td>...</td>\n",
       "      <td>...</td>\n",
       "      <td>...</td>\n",
       "    </tr>\n",
       "    <tr>\n",
       "      <th>9621</th>\n",
       "      <td>AIIMS</td>\n",
       "      <td>SUNDAY</td>\n",
       "      <td>5:00</td>\n",
       "      <td>699</td>\n",
       "      <td>Cool</td>\n",
       "    </tr>\n",
       "    <tr>\n",
       "      <th>355630</th>\n",
       "      <td>Vaishali</td>\n",
       "      <td>FRIDAY</td>\n",
       "      <td>10:00</td>\n",
       "      <td>309</td>\n",
       "      <td>Sunny</td>\n",
       "    </tr>\n",
       "    <tr>\n",
       "      <th>290510</th>\n",
       "      <td>Preet Vihar</td>\n",
       "      <td>SUNDAY</td>\n",
       "      <td>10:00</td>\n",
       "      <td>53</td>\n",
       "      <td>Sunny</td>\n",
       "    </tr>\n",
       "    <tr>\n",
       "      <th>234013</th>\n",
       "      <td>Netaji Subhash Place</td>\n",
       "      <td>MONDAY</td>\n",
       "      <td>8:00</td>\n",
       "      <td>559</td>\n",
       "      <td>Cool</td>\n",
       "    </tr>\n",
       "    <tr>\n",
       "      <th>211842</th>\n",
       "      <td>Mayur Vihar Extension</td>\n",
       "      <td>TUESDAY</td>\n",
       "      <td>2:00</td>\n",
       "      <td>222</td>\n",
       "      <td>Sunny</td>\n",
       "    </tr>\n",
       "  </tbody>\n",
       "</table>\n",
       "<p>382690 rows × 5 columns</p>\n",
       "</div>"
      ],
      "text/plain": [
       "                 Station Name        Day   Time  Population       Weather\n",
       "335581       Surajmal Stadium    TUESDAY   2:00         150          Cool\n",
       "355649               Vaishali   SATURDAY   6:00         132          Cool\n",
       "369547           Udyog Bhawan  WEDNESDAY  12:00          89          Cool\n",
       "226062             Model Town     SUNDAY  11:00          52  ThunderStorm\n",
       "205780         Mayur Vihar -I   THURSDAY   1:00          70         Sunny\n",
       "...                       ...        ...    ...         ...           ...\n",
       "9621                    AIIMS     SUNDAY   5:00         699          Cool\n",
       "355630               Vaishali     FRIDAY  10:00         309         Sunny\n",
       "290510            Preet Vihar     SUNDAY  10:00          53         Sunny\n",
       "234013   Netaji Subhash Place     MONDAY   8:00         559          Cool\n",
       "211842  Mayur Vihar Extension    TUESDAY   2:00         222         Sunny\n",
       "\n",
       "[382690 rows x 5 columns]"
      ]
     },
     "execution_count": 3,
     "metadata": {},
     "output_type": "execute_result"
    }
   ],
   "source": [
    "from sklearn.utils import shuffle\n",
    "\n",
    "# Load dataset\n",
    "data = pd.read_csv(\"output.csv\")\n",
    "data = data.sample(frac=1) \n",
    "data"
   ]
  },
  {
   "cell_type": "markdown",
   "metadata": {},
   "source": [
    "<br><font size='4'>Using ```Categorical```, we are converting instance into categorical values.</font>"
   ]
  },
  {
   "cell_type": "code",
   "execution_count": 4,
   "metadata": {},
   "outputs": [
    {
     "data": {
      "text/html": [
       "<div>\n",
       "<style scoped>\n",
       "    .dataframe tbody tr th:only-of-type {\n",
       "        vertical-align: middle;\n",
       "    }\n",
       "\n",
       "    .dataframe tbody tr th {\n",
       "        vertical-align: top;\n",
       "    }\n",
       "\n",
       "    .dataframe thead th {\n",
       "        text-align: right;\n",
       "    }\n",
       "</style>\n",
       "<table border=\"1\" class=\"dataframe\">\n",
       "  <thead>\n",
       "    <tr style=\"text-align: right;\">\n",
       "      <th></th>\n",
       "      <th>Station Name</th>\n",
       "      <th>Day</th>\n",
       "      <th>Time</th>\n",
       "      <th>Population</th>\n",
       "      <th>Weather</th>\n",
       "    </tr>\n",
       "  </thead>\n",
       "  <tbody>\n",
       "    <tr>\n",
       "      <th>count</th>\n",
       "      <td>382690.000000</td>\n",
       "      <td>382690.000000</td>\n",
       "      <td>382690.000000</td>\n",
       "      <td>382690.000000</td>\n",
       "      <td>382690.000000</td>\n",
       "    </tr>\n",
       "    <tr>\n",
       "      <th>mean</th>\n",
       "      <td>35.000000</td>\n",
       "      <td>3.000000</td>\n",
       "      <td>6.272727</td>\n",
       "      <td>468.745248</td>\n",
       "      <td>1.024027</td>\n",
       "    </tr>\n",
       "    <tr>\n",
       "      <th>std</th>\n",
       "      <td>20.493928</td>\n",
       "      <td>2.000003</td>\n",
       "      <td>3.518551</td>\n",
       "      <td>433.622396</td>\n",
       "      <td>1.014112</td>\n",
       "    </tr>\n",
       "    <tr>\n",
       "      <th>min</th>\n",
       "      <td>0.000000</td>\n",
       "      <td>0.000000</td>\n",
       "      <td>1.000000</td>\n",
       "      <td>15.000000</td>\n",
       "      <td>0.000000</td>\n",
       "    </tr>\n",
       "    <tr>\n",
       "      <th>25%</th>\n",
       "      <td>17.000000</td>\n",
       "      <td>1.000000</td>\n",
       "      <td>3.000000</td>\n",
       "      <td>108.000000</td>\n",
       "      <td>0.000000</td>\n",
       "    </tr>\n",
       "    <tr>\n",
       "      <th>50%</th>\n",
       "      <td>35.000000</td>\n",
       "      <td>3.000000</td>\n",
       "      <td>6.000000</td>\n",
       "      <td>311.000000</td>\n",
       "      <td>1.000000</td>\n",
       "    </tr>\n",
       "    <tr>\n",
       "      <th>75%</th>\n",
       "      <td>53.000000</td>\n",
       "      <td>5.000000</td>\n",
       "      <td>10.000000</td>\n",
       "      <td>725.000000</td>\n",
       "      <td>2.000000</td>\n",
       "    </tr>\n",
       "    <tr>\n",
       "      <th>max</th>\n",
       "      <td>70.000000</td>\n",
       "      <td>6.000000</td>\n",
       "      <td>12.000000</td>\n",
       "      <td>1630.000000</td>\n",
       "      <td>3.000000</td>\n",
       "    </tr>\n",
       "  </tbody>\n",
       "</table>\n",
       "</div>"
      ],
      "text/plain": [
       "        Station Name            Day           Time     Population  \\\n",
       "count  382690.000000  382690.000000  382690.000000  382690.000000   \n",
       "mean       35.000000       3.000000       6.272727     468.745248   \n",
       "std        20.493928       2.000003       3.518551     433.622396   \n",
       "min         0.000000       0.000000       1.000000      15.000000   \n",
       "25%        17.000000       1.000000       3.000000     108.000000   \n",
       "50%        35.000000       3.000000       6.000000     311.000000   \n",
       "75%        53.000000       5.000000      10.000000     725.000000   \n",
       "max        70.000000       6.000000      12.000000    1630.000000   \n",
       "\n",
       "             Weather  \n",
       "count  382690.000000  \n",
       "mean        1.024027  \n",
       "std         1.014112  \n",
       "min         0.000000  \n",
       "25%         0.000000  \n",
       "50%         1.000000  \n",
       "75%         2.000000  \n",
       "max         3.000000  "
      ]
     },
     "execution_count": 4,
     "metadata": {},
     "output_type": "execute_result"
    }
   ],
   "source": [
    "def try_int(x):\n",
    "    try:\n",
    "        return int(x)\n",
    "    except ValueError:\n",
    "        return\n",
    "\n",
    "data[\"Weather\"] = pd.Categorical(data[\"Weather\"]).codes\n",
    "data[\"Day\"] = pd.Categorical(data[\"Day\"]).codes\n",
    "data[\"Station Name\"] = pd.Categorical(data[\"Station Name\"]).codes\n",
    "data[\"Time\"] = data[\"Time\"].map(lambda x: try_int(x.split(\":\")[0]))\n",
    "data[\"Population\"] = data[\"Population\"].map(lambda x: try_int(x))\n",
    "data.describe()"
   ]
  },
  {
   "cell_type": "markdown",
   "metadata": {},
   "source": [
    "<br><font size='4'>Now dividing the dataset into independent variables also known as ```Features``` and dependent varibales known as ```Targets```.</font>"
   ]
  },
  {
   "cell_type": "code",
   "execution_count": 5,
   "metadata": {},
   "outputs": [],
   "source": [
    "X = data[[\"Station Name\", \"Day\", \"Time\", \"Weather\"]].values #Features\n",
    "y = data[[\"Population\"]].values #Targets"
   ]
  },
  {
   "cell_type": "markdown",
   "metadata": {},
   "source": [
    "<br><font size='4'>Eliminating all the NaN(Not a Number) and infinite values in the dataset.</font>"
   ]
  },
  {
   "cell_type": "code",
   "execution_count": 6,
   "metadata": {},
   "outputs": [],
   "source": [
    "X = np.nan_to_num(X)\n",
    "y = np.nan_to_num(y)"
   ]
  },
  {
   "cell_type": "markdown",
   "metadata": {},
   "source": [
    "<br><font size='4'>```preprocessing.scale()``` is used for standardizing the data along y-axis. It scales the data in such a way which tranforms the variance of each component to unit. </font>"
   ]
  },
  {
   "cell_type": "code",
   "execution_count": 7,
   "metadata": {},
   "outputs": [
    {
     "data": {
      "text/plain": [
       "array([[ 1.3662601 ,  1.        , -1.21434461, -1.00977882],\n",
       "       [ 1.51264511, -0.5       , -0.07751136, -1.00977882],\n",
       "       [ 1.46385011,  1.5       ,  1.62773853, -1.00977882],\n",
       "       ...,\n",
       "       [ 0.87831007,  0.        ,  1.0593219 ,  0.9623929 ],\n",
       "       [ 0.39036003, -1.        ,  0.49090527, -1.00977882],\n",
       "       [ 0.24397502,  1.        , -1.21434461,  0.9623929 ]])"
      ]
     },
     "execution_count": 7,
     "metadata": {},
     "output_type": "execute_result"
    }
   ],
   "source": [
    "norm_x = preprocessing.scale(X)\n",
    "norm_y = preprocessing.scale(y)\n",
    "norm_x"
   ]
  },
  {
   "cell_type": "markdown",
   "metadata": {},
   "source": [
    "<br><font size='4'>Dividing our dataset into training set and tseting set. By specifying ```test_size``` we are using 30% of dataset as training set. As default ```test_size``` is 0.25.</font>"
   ]
  },
  {
   "cell_type": "code",
   "execution_count": 8,
   "metadata": {
    "scrolled": true
   },
   "outputs": [
    {
     "name": "stdout",
     "output_type": "stream",
     "text": [
      "(267883, 4)\n",
      "(114807, 4)\n"
     ]
    }
   ],
   "source": [
    "X_train , X_test, y_train, y_test = train_test_split(norm_x, norm_y, test_size=0.3, random_state=69)\n",
    "print(X_train.shape)\n",
    "print(X_test.shape)"
   ]
  },
  {
   "cell_type": "markdown",
   "metadata": {},
   "source": [
    "<br><font size='4'>Finally training the decision tree algorithm on our dataset. Scikit-Learn contains the ```tree``` library, which contains built-in classes/methods for various decision tree algorithms.</font>"
   ]
  },
  {
   "cell_type": "code",
   "execution_count": 9,
   "metadata": {},
   "outputs": [
    {
     "data": {
      "text/plain": [
       "DecisionTreeRegressor()"
      ]
     },
     "execution_count": 9,
     "metadata": {},
     "output_type": "execute_result"
    }
   ],
   "source": [
    "from sklearn.tree import DecisionTreeRegressor\n",
    "\n",
    "#Creating the decision tree regressor object\n",
    "classifier = DecisionTreeRegressor()\n",
    "\n",
    "# Training our dataset using decision tree object\n",
    "classifier.fit(X_train.reshape(-1,4) , y_train.ravel())"
   ]
  },
  {
   "cell_type": "markdown",
   "metadata": {},
   "source": [
    "<br><font size='4'>To make predictions, the ```predict``` method of the DecisionTreeRegressor class is used.</font>"
   ]
  },
  {
   "cell_type": "code",
   "execution_count": 10,
   "metadata": {},
   "outputs": [],
   "source": [
    "y_pred = classifier.predict(X_test.reshape(-1,4))"
   ]
  },
  {
   "cell_type": "markdown",
   "metadata": {},
   "source": [
    "<br><font size='4'>Finally calculating the accuracy of our model using ```r2_model``` from ```metrics```.</font>"
   ]
  },
  {
   "cell_type": "code",
   "execution_count": 11,
   "metadata": {},
   "outputs": [
    {
     "name": "stdout",
     "output_type": "stream",
     "text": [
      "Accuracy: 0.9838475141432419\n"
     ]
    }
   ],
   "source": [
    "print(\"Accuracy:\",r2_score(y_test, y_pred.reshape(-1,1)))"
   ]
  },
  {
   "cell_type": "code",
   "execution_count": null,
   "metadata": {},
   "outputs": [
    {
     "data": {
      "application/javascript": [
       "window.require && require([\"base/js/namespace\"],function(Jupyter){Jupyter.notebook.save_checkpoint()})"
      ],
      "text/plain": [
       "<IPython.core.display.Javascript object>"
      ]
     },
     "metadata": {},
     "output_type": "display_data"
    },
    {
     "name": "stdout",
     "output_type": "stream",
     "text": [
      "[jovian] Attempting to save notebook..\u001b[0m\n"
     ]
    }
   ],
   "source": [
    "jovian.commit()"
   ]
  },
  {
   "cell_type": "code",
   "execution_count": null,
   "metadata": {},
   "outputs": [],
   "source": []
  }
 ],
 "metadata": {
  "kernelspec": {
   "display_name": "Python 3",
   "language": "python",
   "name": "python3"
  },
  "language_info": {
   "codemirror_mode": {
    "name": "ipython",
    "version": 3
   },
   "file_extension": ".py",
   "mimetype": "text/x-python",
   "name": "python",
   "nbconvert_exporter": "python",
   "pygments_lexer": "ipython3",
   "version": "3.8.6"
  }
 },
 "nbformat": 4,
 "nbformat_minor": 2
}
